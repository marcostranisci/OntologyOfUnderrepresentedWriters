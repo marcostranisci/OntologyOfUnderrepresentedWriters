{
 "cells": [
  {
   "cell_type": "markdown",
   "metadata": {},
   "source": [
    "## Imports"
   ]
  },
  {
   "cell_type": "code",
   "execution_count": 28,
   "metadata": {},
   "outputs": [],
   "source": [
    "import json\n",
    "import pandas as pd"
   ]
  },
  {
   "cell_type": "markdown",
   "metadata": {},
   "source": [
    "## Globals Variables"
   ]
  },
  {
   "cell_type": "code",
   "execution_count": 35,
   "metadata": {},
   "outputs": [],
   "source": [
    "## Customer Variables\n",
    "annotations_ousmane_200_json_path = \"inputs\\\\annotations-ousmane-200.json\" \n",
    "annotations_ousmane_200_csv_path = \"inputs\\\\annotations-ousmane-200.csv\"\n",
    "annotations_marco_1000_csv_path = \"inputs\\\\1000annotazioni.csv\"\n",
    "annotations_matched_200_csv_path = \"outputs\\\\annotations-matched-200.csv\"\n",
    "exact_agreement_columns = [\"author\", \"sent_id\", \"text\", \"TIME\", \"WRITER-AG\", \"EVENT\", \"ORG\", \"LOC\", \"ASP-EVENT\", \"STATE\", \"WRITER-PA\", \"REP-EVENT\"]\n",
    "soft_agreement_columns = [\"author\", \"sent_id\", \"text\", \"EVENT\", \"STATE\"]\n",
    "\n",
    "## Libraries Variables\n"
   ]
  },
  {
   "cell_type": "markdown",
   "metadata": {},
   "source": [
    "## Transform annotations file json to csv file."
   ]
  },
  {
   "cell_type": "code",
   "execution_count": 31,
   "metadata": {},
   "outputs": [],
   "source": [
    "## This function convert the annotation file json in a annotation file csv.\n",
    "def annotations_json_to_csv(path_file_json, annotator_name, path_file_csv) :\n",
    "    df = pd.DataFrame()\n",
    "    with open(path_file_json, \"r\", encoding='utf-8') as f:\n",
    "        file_contents = json.load(f)\n",
    "        for item in file_contents:\n",
    "            for annotation in item['annotations']:\n",
    "                container = dict()\n",
    "                container['annotator'] = annotator_name\n",
    "                container['author'] = item['data']['author']\n",
    "                container['sent_id'] = item['data']['sent_id']\n",
    "                container['text'] = item['data']['text']\n",
    "                for v in annotation['result']:\n",
    "                    container[v['value']['labels'][0]] = v['value']['text']\n",
    "                df = df.append(container, ignore_index=True)\n",
    "    df.to_csv(path_file_csv, index=False)"
   ]
  },
  {
   "cell_type": "code",
   "execution_count": 32,
   "metadata": {},
   "outputs": [],
   "source": [
    "annotations_json_to_csv(annotations_ousmane_200_json_path, \"ousmane\", annotations_ousmane_200_csv_path)"
   ]
  },
  {
   "cell_type": "markdown",
   "metadata": {},
   "source": [
    "## Merged two Csv with Pandas"
   ]
  },
  {
   "cell_type": "code",
   "execution_count": 33,
   "metadata": {},
   "outputs": [],
   "source": [
    "## This function\n",
    "def merged_two_csv(path_csv1, path_csv2, columns, output_csv) :\n",
    "    df1 = pd.read_csv(path_csv1)\n",
    "    df2 = pd.read_csv(path_csv2)\n",
    "    df = pd.merge(df1, df2, how='inner', on=columns) \n",
    "    df.to_csv(output_csv, index=False)\n"
   ]
  },
  {
   "cell_type": "code",
   "execution_count": 36,
   "metadata": {},
   "outputs": [],
   "source": [
    "merged_two_csv(annotations_ousmane_200_csv_path, annotations_marco_1000_csv_path, exact_agreement_columns, annotations_matched_200_csv_path)"
   ]
  }
 ],
 "metadata": {
  "interpreter": {
   "hash": "9c0098ef03c01875785b14fb83d5161d4a7df326e3b00d12d4d2605823f1c481"
  },
  "kernelspec": {
   "display_name": "Python 3.9.7 64-bit",
   "language": "python",
   "name": "python3"
  },
  "language_info": {
   "codemirror_mode": {
    "name": "ipython",
    "version": 3
   },
   "file_extension": ".py",
   "mimetype": "text/x-python",
   "name": "python",
   "nbconvert_exporter": "python",
   "pygments_lexer": "ipython3",
   "version": "3.9.7"
  },
  "orig_nbformat": 4
 },
 "nbformat": 4,
 "nbformat_minor": 2
}
