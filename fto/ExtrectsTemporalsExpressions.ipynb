{
 "cells": [
  {
   "cell_type": "code",
   "execution_count": 1,
   "metadata": {},
   "outputs": [],
   "source": [
    "from prettytable import PrettyTable\n",
    "import json\n",
    "import numpy as np\n",
    "import re\n",
    "import pandas as pd\n",
    "from pysyntime import SynTime"
   ]
  },
  {
   "cell_type": "markdown",
   "metadata": {},
   "source": [
    "## PATHS OF INPUTS FILES"
   ]
  },
  {
   "cell_type": "code",
   "execution_count": 2,
   "metadata": {},
   "outputs": [],
   "source": [
    "preprocessing_sentences_path = \"inputs\\\\preprocessed_sentences.csv\"\n",
    "processing_sents_uniformDate_extractTML_path = \"outputs\\\\processing_sents_uniformDate_extractTML.csv\""
   ]
  },
  {
   "cell_type": "markdown",
   "metadata": {},
   "source": [
    "## Common Variables"
   ]
  },
  {
   "cell_type": "code",
   "execution_count": 3,
   "metadata": {},
   "outputs": [],
   "source": [
    "synTime = SynTime()\n",
    "reference_date = '1800-01-01'\n",
    "\n",
    "months_date = \"(January|February|March|April|May|June|July|August|September|October|November|December)\"\n",
    "separators_date = \"([\\\\s|\\.|-|,|_|\\\\|/|;]+)\"\n",
    "\n",
    "regex_day_month_year = \"([0-9]{1,2})\" + separators_date + months_date + separators_date + \"([0-9]{4})\"\n",
    "regex_month_day_year = months_date + separators_date + \"([0-9]{1,2})\" + separators_date + \"([0-9]{4})\"\n",
    "regex_year_month_day = \"([0-9]{4})\" + separators_date + months_date + separators_date + \"([0-9]{1,2})\"\n",
    "regex_year_day_month = \"([0-9]{4})\" + separators_date + \"([0-9]{1,2})\" + separators_date + months_date\n",
    "regex_month_year = months_date + separators_date + \"([0-9]{4})\"\n",
    "regex_year_month = \"([0-9]{4})\" + separators_date + months_date\n",
    "regex_day_month = \"([0-9]{1,2})\" + separators_date + months_date\n",
    "regex_month_day = months_date + separators_date + \"([0-9]{1,2})\"\n",
    "re\n",
    "regex_year = \"([0-9]{4})\"\n"
   ]
  },
  {
   "cell_type": "markdown",
   "metadata": {},
   "source": [
    "## Common Functions"
   ]
  },
  {
   "cell_type": "code",
   "execution_count": 18,
   "metadata": {},
   "outputs": [],
   "source": [
    "def extractionTimeML(sentence, reference_date) :\n",
    "    return re.findall(\"<TIMEX3.*?>(.*?)</TIMEX3>\", synTime.extractTimexFromText(sentence, reference_date))\n",
    "\n",
    "def monthStrToNumber(monthStr):\n",
    "    monthsStr = {'jan': \"01\", 'feb': \"02\", 'mar': \"03\", 'apr': \"04\", 'may': \"05\", 'jun': \"06\", 'jul': \"07\", 'aug': \"08\", 'sep': \"09\", 'oct': \"10\", 'nov': \"11\", 'dec': \"12\" }  \n",
    "    monthNumber = monthStr.strip()[:3].lower()\n",
    "    try:\n",
    "        out = monthsStr[monthNumber]\n",
    "        return out\n",
    "    except:\n",
    "        raise ValueError('Not a month')\n",
    "\n",
    "def extractionDayMonthYear(sentence, regex, pos_d, pos_m, pos_y) : \n",
    "    output_sentence = sentence\n",
    "    dates = re.findall(regex, output_sentence, re.IGNORECASE)\n",
    "    for date in dates :\n",
    "        day = (\"0\"+date[pos_d].strip() if len(date[pos_d].strip()) == 1 else date[pos_d].strip()) if pos_d >= 0 else \"01\"\n",
    "        month =  monthStrToNumber(date[pos_m].strip()) if pos_m >= 0 else \"01\"\n",
    "        year = date[pos_y].strip() if pos_y >= 0 else \"YYYY\"\n",
    "        output_sentence = re.sub(\"\".join(date), year+\"/\"+month+\"/\"+day, output_sentence)\n",
    "    return output_sentence\n",
    "\n",
    "def uniformalizeDate(sentence) :\n",
    "    output_sentence = extractionDayMonthYear(sentence, regex_day_month_year, 0, 2, 4)\n",
    "    output_sentence = extractionDayMonthYear(output_sentence, regex_month_day_year, 2, 0, 4)\n",
    "    output_sentence = extractionDayMonthYear(output_sentence, regex_year_month_day, 4, 2, 0)\n",
    "    output_sentence = extractionDayMonthYear(output_sentence, regex_year_day_month, 2, 4, 0)\n",
    "    output_sentence = extractionDayMonthYear(output_sentence, regex_month_year, -1, 0, 2)\n",
    "    output_sentence = extractionDayMonthYear(output_sentence, regex_year_month, -1, 2, 0)\n",
    "    output_sentence = extractionDayMonthYear(output_sentence, regex_day_month, 0, 2, -1)\n",
    "    output_sentence = extractionDayMonthYear(output_sentence, regex_month_day, 2, 0, -1)\n",
    "    return output_sentence"
   ]
  },
  {
   "cell_type": "code",
   "execution_count": 14,
   "metadata": {},
   "outputs": [
    {
     "name": "stdout",
     "output_type": "stream",
     "text": [
      "1\n"
     ]
    }
   ],
   "source": [
    "print(('1', ', ', 'October', ' ', '1859').join() )"
   ]
  },
  {
   "cell_type": "markdown",
   "metadata": {},
   "source": [
    "## Processing"
   ]
  },
  {
   "cell_type": "code",
   "execution_count": 26,
   "metadata": {},
   "outputs": [],
   "source": [
    "df = pd.read_csv(preprocessing_sentences_path)\n",
    "sentences = df.values.tolist()\n",
    "\n",
    "#id = \"Q49061\"\n",
    "#sentences = (df.loc[df['author'] == id]).values.tolist()\n",
    "\n",
    "authors = []\n",
    "sents_id = []\n",
    "orig_sents = []\n",
    "preproc_sents_places = [] \n",
    "preproc_sents_people = []\n",
    "uniformalize_date_sents = []\n",
    "timeMLTexts = []\n",
    "\n",
    "for sentence in sentences :    \n",
    "    authors.append(sentence[0])\n",
    "    sents_id.append(sentence[1])\n",
    "    orig_sents.append(sentence[2])\n",
    "    preproc_sents_places.append(sentence[3])\n",
    "    preproc_sents_people.append(sentence[4])\n",
    "    uniformalize_date_sents.append(uniformalizeDate(sentence[2]))\n",
    "    timeMLTexts.append(\" \\\\=> \".join(extractionTimeML(uniformalizeDate(sentence[2]), reference_date)))\n",
    "    #timeMLTexts.append(\"hkba\")\n",
    "    #print(\"ID: \", sentence[0], \", SENTENCE: \", sentence[2], \", TimeMLText: \", extractionTimeML(uniformalizeDate(sentence[2]), reference_date))\n",
    "\n",
    "data_processed = {\n",
    "    \"author\": authors, \n",
    "    \"sent_id\": sents_id, \n",
    "    \"orig_sent\": orig_sents, \n",
    "    \"preproc_sent_places\": preproc_sents_places, \n",
    "    \"preproc_sents_people\": preproc_sents_people, \n",
    "    \"uniformalize_date_sents\": uniformalize_date_sents,\n",
    "    \"timeMLTexts\": timeMLTexts\n",
    "}\n",
    "\n",
    "columns_data_processed = [\"author\", \"sent_id\", \"orig_sent\", \"preproc_sent_places\", \"preproc_sents_people\", \"uniformalize_date_sents\", \"timeMLTexts\"]\n",
    "\n",
    "df_output = pd.DataFrame(data_processed, columns=columns_data_processed)\n",
    "\n",
    "df_output.to_csv(processing_sents_uniformDate_extractTML_path, sep=',', index=False, header=True)"
   ]
  },
  {
   "cell_type": "markdown",
   "metadata": {},
   "source": [
    "## Sort the TimeMLText"
   ]
  },
  {
   "cell_type": "code",
   "execution_count": 33,
   "metadata": {},
   "outputs": [
    {
     "name": "stdout",
     "output_type": "stream",
     "text": [
      "Clarissa Minnie Thompson Allen between <TIMEX3 tid=\"t1\" type=\"DATE\" value=\"1800-01-01\">October 1, 1859 -</TIMEX3><TIMEX3 tid=\"t2\" type=\"DATE\" value=\"1800-01-01\">- November 23, 1941</TIMEX3> was an American educator and author.\n"
     ]
    }
   ],
   "source": [
    "#def ordering(items) :\n",
    "sent = 'Clarissa Minnie Thompson Allen between October 1, 1859 - November 23, 1941 was an American educator and author.'\n",
    "extract = synTime.extractTimexFromText(sent, reference_date)\n",
    "print(extract)"
   ]
  },
  {
   "cell_type": "code",
   "execution_count": 6,
   "metadata": {},
   "outputs": [
    {
     "name": "stdout",
     "output_type": "stream",
     "text": [
      "['October 1, 1859', 'November 23, 1941']\n"
     ]
    }
   ],
   "source": [
    "sentence_text = 'Clarissa Minnie Thompson Allen (<TIMEX3 tid=\"t1\" type=\"DATE\" value=\"1800-01-01\">October 1, 1859</TIMEX3> – <TIMEX3 tid=\"t2\" type=\"DATE\" value=\"1800-01-01\">November 23, 1941</TIMEX3>) was an American educator and author.'\n",
    "print(re.findall(\"<TIMEX3.*?>(.*?)</TIMEX3>\", sentence_text))"
   ]
  },
  {
   "cell_type": "code",
   "execution_count": 40,
   "metadata": {},
   "outputs": [
    {
     "name": "stdout",
     "output_type": "stream",
     "text": [
      "([0-9]{1,2})([\\s|\\.|-|,|_|\\|/|;]+)(January|February|March|April|May|June|July|August|September|October|November|December)([\\s|\\.|-|,|_|\\|/|;]+)([0-9]{4})\n",
      "(January|February|March|April|May|June|July|August|September|October|November|December)([\\s|\\.|-|,|_|\\|/|;]+)([0-9]{1,2})([\\s|\\.|-|,|_|\\|/|;]+)([0-9]{4})\n",
      "(January|February|March|April|May|June|July|August|September|October|November|December)([\\s|\\.|-|,|_|\\|/|;]+)([0-9]{4})\n",
      "([0-9]{4})([\\s|\\.|-|,|_|\\|/|;]+)(January|February|March|April|May|June|July|August|September|October|November|December)\n",
      "([0-9]{1,2})([\\s|\\.|-|,|_|\\|/|;]+)(January|February|March|April|May|June|July|August|September|October|November|December)\n",
      "(January|February|March|April|May|June|July|August|September|October|November|December)([\\s|\\.|-|,|_|\\|/|;]+)([0-9]{1,2})\n",
      "Clarissa Minnie Thompson Allen between 10-01-1859 - 11-23-1941 was an American educator and author.\n"
     ]
    }
   ],
   "source": [
    "sent = 'Clarissa Minnie Thompson Allen between 1, October 1859 - November 23, 1941 was an American educator and author.'\n",
    "print(uniformalizeDate(sent))"
   ]
  }
 ],
 "metadata": {
  "interpreter": {
   "hash": "9c0098ef03c01875785b14fb83d5161d4a7df326e3b00d12d4d2605823f1c481"
  },
  "kernelspec": {
   "display_name": "Python 3.9.7 64-bit",
   "language": "python",
   "name": "python3"
  },
  "language_info": {
   "codemirror_mode": {
    "name": "ipython",
    "version": 3
   },
   "file_extension": ".py",
   "mimetype": "text/x-python",
   "name": "python",
   "nbconvert_exporter": "python",
   "pygments_lexer": "ipython3",
   "version": "3.9.7"
  },
  "orig_nbformat": 4
 },
 "nbformat": 4,
 "nbformat_minor": 2
}
