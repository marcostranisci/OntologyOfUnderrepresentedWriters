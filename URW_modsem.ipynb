{
  "nbformat": 4,
  "nbformat_minor": 0,
  "metadata": {
    "colab": {
      "name": "URW@modsem.ipynb",
      "provenance": [],
      "collapsed_sections": [],
      "authorship_tag": "ABX9TyMHk9EYyRaH9O/XSrc8fmkf",
      "include_colab_link": true
    },
    "kernelspec": {
      "display_name": "Python 3",
      "name": "python3"
    },
    "language_info": {
      "name": "python"
    }
  },
  "cells": [
    {
      "cell_type": "markdown",
      "metadata": {
        "id": "view-in-github",
        "colab_type": "text"
      },
      "source": [
        "<a href=\"https://colab.research.google.com/github/marcostranisci/UnderRepresentedWritersProject/blob/main/URW_modsem.ipynb\" target=\"_parent\"><img src=\"https://colab.research.google.com/assets/colab-badge.svg\" alt=\"Open In Colab\"/></a>"
      ]
    },
    {
      "cell_type": "code",
      "metadata": {
        "id": "dKxtNcaoBdmc"
      },
      "source": [
        "%matplotlib inline"
      ],
      "execution_count": null,
      "outputs": []
    },
    {
      "cell_type": "code",
      "metadata": {
        "colab": {
          "base_uri": "https://localhost:8080/"
        },
        "id": "c1px4CWQAo03",
        "outputId": "7fe27c7b-9031-489f-b768-f5f6c7c93378"
      },
      "source": [
        "!pip3 install wikidata"
      ],
      "execution_count": null,
      "outputs": [
        {
          "output_type": "stream",
          "name": "stdout",
          "text": [
            "Collecting wikidata\n",
            "  Downloading Wikidata-0.7.0-py3-none-any.whl (29 kB)\n",
            "Installing collected packages: wikidata\n",
            "Successfully installed wikidata-0.7.0\n"
          ]
        }
      ]
    },
    {
      "cell_type": "code",
      "metadata": {
        "id": "1eY-4fB5Auq1"
      },
      "source": [
        "from wikidata.client import Client\n",
        "import requests"
      ],
      "execution_count": null,
      "outputs": []
    },
    {
      "cell_type": "markdown",
      "metadata": {
        "id": "fpkCGPt_ED_K"
      },
      "source": [
        "## 1. Scaricare i dati da Wikidata"
      ]
    },
    {
      "cell_type": "markdown",
      "metadata": {
        "id": "XW1RQ9wG-S7D"
      },
      "source": [
        "scarica i dati da Wikidata tramite query sparql"
      ]
    },
    {
      "cell_type": "code",
      "metadata": {
        "colab": {
          "base_uri": "https://localhost:8080/"
        },
        "id": "pgtYiKS0-dOG",
        "outputId": "2839f948-c5bd-4b77-ae28-d630c78a40e0"
      },
      "source": [
        "url ='https://query.wikidata.org/sparql'\n",
        "\n",
        "q = '''\n",
        "SELECT DISTINCT ?author ?pob ?dob ?site\n",
        "WHERE \n",
        "{\n",
        "   {?author wdt:P106 wd:Q6625963} UNION {?author wdt:P106 wd:Q49757} UNION {?author wdt:P106 wd:Q36180}.\n",
        "  ?author wdt:P19 ?pob;\n",
        "          wdt:P569 ?dob.\n",
        "   ?site   schema:about ?author;\n",
        "          schema:isPartOf <https://en.wikipedia.org/>.\n",
        "\n",
        "  FILTER(YEAR(?dob) > 1808)\n",
        "}\n",
        "'''\n",
        "params = {'format':'json','query':q}\n",
        "req = requests.get(url,params=params)\n",
        "\n",
        "print('There are {} entities matching the SPARQL query'.format(len(req.json()['results']['bindings'])))\n",
        "print('Here\\'s the first entity: {}'.format(req.json()['results']['bindings'][0]))\n",
        "\n",
        "wiki_id = req.json()['results']['bindings'][0]['author']['value'].split('/')[-1]\n",
        "author_site = req.json()['results']['bindings'][0]['site']['value']\n",
        "pobID = req.json()['results']['bindings'][0]['pob']['value'].split('/')[-1]\n",
        "\n"
      ],
      "execution_count": null,
      "outputs": [
        {
          "output_type": "stream",
          "name": "stdout",
          "text": [
            "There are 75079 entities matching the SPARQL query\n",
            "Here's the first entity: {'author': {'type': 'uri', 'value': 'http://www.wikidata.org/entity/Q53672'}, 'pob': {'type': 'uri', 'value': 'http://www.wikidata.org/entity/Q990775'}, 'dob': {'datatype': 'http://www.w3.org/2001/XMLSchema#dateTime', 'type': 'literal', 'value': '1962-01-02T00:00:00Z'}, 'site': {'type': 'uri', 'value': 'https://en.wikipedia.org/wiki/Mo_Hayder'}}\n"
          ]
        }
      ]
    },
    {
      "cell_type": "markdown",
      "metadata": {
        "id": "AWLAC6NhGVVn"
      },
      "source": [
        "chiama un'entità di Wikidata tramite il suo id e ispeziona tutte le proprietà con cui è associata"
      ]
    },
    {
      "cell_type": "code",
      "metadata": {
        "colab": {
          "base_uri": "https://localhost:8080/"
        },
        "id": "ZzWOkIw5A1fo",
        "outputId": "9d6a2da1-aa76-457c-e7ea-5e18982625fa"
      },
      "source": [
        "wiki_id = req.json()['results']['bindings'][0]['author']['value'].split('/')[-1]\n",
        "wiki_client = Client()\n",
        "entity = wiki_client.get(wiki_id,load=True)\n",
        "\n",
        "print(list(entity.items()))"
      ],
      "execution_count": null,
      "outputs": [
        {
          "output_type": "stream",
          "name": "stdout",
          "text": [
            "[(<wikidata.entity.Entity P21>, <wikidata.entity.Entity Q6581072>), (<wikidata.entity.Entity P244>, 'n99036062'), (<wikidata.entity.Entity P227>, '123643228'), (<wikidata.entity.Entity P31>, <wikidata.entity.Entity Q5>), (<wikidata.entity.Entity P646>, '/m/0b0pn6'), (<wikidata.entity.Entity P569>, datetime.date(1962, 1, 2)), (<wikidata.entity.Entity P19>, <wikidata.entity.Entity Q990775>), (<wikidata.entity.Entity P27>, <wikidata.entity.Entity Q145>), (<wikidata.entity.Entity P106>, <wikidata.entity.Entity Q36180>), (<wikidata.entity.Entity P1006>, '187350760'), (<wikidata.entity.Entity P166>, <wikidata.entity.Entity Q833154>), (<wikidata.entity.Entity P69>, <wikidata.entity.Entity Q3091754>), (<wikidata.entity.Entity P856>, 'http://www.mohayder.net'), (<wikidata.entity.Entity P2163>, '1549369'), (<wikidata.entity.Entity P648>, 'OL21020A'), (<wikidata.entity.Entity P1411>, <wikidata.entity.Entity Q2336530>), (<wikidata.entity.Entity P349>, '00902027'), (<wikidata.entity.Entity P3417>, 'Mo-Hayder'), (<wikidata.entity.Entity P2191>, '20284'), (<wikidata.entity.Entity P3630>, '4014'), (<wikidata.entity.Entity P1015>, '7022356'), (<wikidata.entity.Entity P906>, '362083'), (<wikidata.entity.Entity P950>, 'XX1501594'), (<wikidata.entity.Entity P5361>, 'HayderMo'), (<wikidata.entity.Entity P213>, '0000 0001 2123 2044'), (<wikidata.entity.Entity P269>, '052561259'), (<wikidata.entity.Entity P1412>, <wikidata.entity.Entity Q1860>), (<wikidata.entity.Entity P5666>, 'mo-hayder'), (<wikidata.entity.Entity P5587>, 'wt7bjtqf2vlr4sb'), (<wikidata.entity.Entity P268>, '13564096h'), (<wikidata.entity.Entity P214>, '19845460'), (<wikidata.entity.Entity P691>, 'xx0012178'), (<wikidata.entity.Entity P434>, '06373870-1df4-4210-a5b8-8e73ccec958a'), (<wikidata.entity.Entity P6886>, <wikidata.entity.Entity Q1860>), (<wikidata.entity.Entity P734>, <wikidata.entity.Entity Q37071149>), (<wikidata.entity.Entity P5034>, 'KAC201333759'), (<wikidata.entity.Entity P7859>, 'lccn-n99036062'), (<wikidata.entity.Entity P1207>, 'n01098402'), (<wikidata.entity.Entity P2963>, '74876'), (<wikidata.entity.Entity P4789>, 'U284260'), (<wikidata.entity.Entity P7293>, '9810532229905606'), (<wikidata.entity.Entity P735>, <wikidata.entity.Entity Q16275208>), (<wikidata.entity.Entity P570>, datetime.date(2021, 7, 27)), (<wikidata.entity.Entity P1559>, '(en:) Mo Hayder'[6:]), (<wikidata.entity.Entity P1477>, '(en:) Clare Dunkel'[6:]), (<wikidata.entity.Entity P2031>, 1999), (<wikidata.entity.Entity P2032>, 2021), (<wikidata.entity.Entity P1971>, wikidata.quantity.Quantity(1.0, None, None, None)), (<wikidata.entity.Entity P1050>, <wikidata.entity.Entity Q206901>), (<wikidata.entity.Entity P509>, <wikidata.entity.Entity Q206901>), (<wikidata.entity.Entity P800>, <wikidata.entity.Entity Q3886170>), (<wikidata.entity.Entity P460>, <wikidata.entity.Entity Q5032080>), (<wikidata.entity.Entity P345>, 'nm5839334'), (<wikidata.entity.Entity P7400>, 'haydermo'), (<wikidata.entity.Entity P4985>, '1344738'), (<wikidata.entity.Entity P3222>, 'mo-hayder')]\n"
          ]
        }
      ]
    },
    {
      "cell_type": "code",
      "metadata": {
        "id": "56Z3RNg-CsSH",
        "colab": {
          "base_uri": "https://localhost:8080/"
        },
        "outputId": "7171c508-eaf0-4087-a07c-b93d34d4cb16"
      },
      "source": [
        "for el in entity.items():\n",
        "\n",
        "  print('property {} has label {}, and value {}'.format(el[0].id,el[0].label,el[1]))"
      ],
      "execution_count": null,
      "outputs": [
        {
          "output_type": "stream",
          "name": "stdout",
          "text": [
            "property P21 has label sex or gender, and value <wikidata.entity.Entity Q6581072>\n",
            "property P244 has label Library of Congress authority ID, and value n99036062\n",
            "property P227 has label GND ID, and value 123643228\n",
            "property P31 has label instance of, and value <wikidata.entity.Entity Q5>\n",
            "property P646 has label Freebase ID, and value /m/0b0pn6\n",
            "property P569 has label date of birth, and value 1962-01-02\n",
            "property P19 has label place of birth, and value <wikidata.entity.Entity Q990775>\n",
            "property P27 has label country of citizenship, and value <wikidata.entity.Entity Q145>\n",
            "property P106 has label occupation, and value <wikidata.entity.Entity Q36180>\n",
            "property P1006 has label Nationale Thesaurus voor Auteurs ID, and value 187350760\n",
            "property P166 has label award received, and value <wikidata.entity.Entity Q833154>\n",
            "property P69 has label educated at, and value <wikidata.entity.Entity Q3091754>\n",
            "property P856 has label official website, and value http://www.mohayder.net\n",
            "property P2163 has label FAST ID, and value 1549369\n",
            "property P648 has label Open Library ID, and value OL21020A\n",
            "property P1411 has label nominated for, and value <wikidata.entity.Entity Q2336530>\n",
            "property P349 has label National Diet Library ID, and value 00902027\n",
            "property P3417 has label Quora topic ID, and value Mo-Hayder\n"
          ]
        }
      ]
    },
    {
      "cell_type": "markdown",
      "metadata": {
        "id": "cmCdcaW3Iw8i"
      },
      "source": [
        "stampa la label e la description di un'entità"
      ]
    },
    {
      "cell_type": "code",
      "metadata": {
        "id": "W5-0wRIRIwLZ"
      },
      "source": [
        "author_label = entity.label\n",
        "description = entity.description\n",
        "\n",
        "print('In Inglese: {} is a {}'.format(author_label['en'],description['en']))\n",
        "print('In Italiano: {} è uno {}'.format(author_label['it'],description['it']))"
      ],
      "execution_count": null,
      "outputs": []
    },
    {
      "cell_type": "markdown",
      "metadata": {
        "id": "R4KBa_KLCO7Q"
      },
      "source": [
        "recupera lo stato di nascita dell'autore"
      ]
    },
    {
      "cell_type": "code",
      "metadata": {
        "id": "r4vf6rn3CXl7"
      },
      "source": [
        "pobID = req.json()['results']['bindings'][0]['pob']['value'].split('/')[-1]\n",
        "placeOfBirth = wiki_client.get(pobID,load=True)\n",
        "p17 = Client().get('p17')\n",
        "country = placeOfBirth[p17].label\n",
        "\n",
        "print('{} was born in {}, {}'.format(author_label,placeOfBirth.label,country))"
      ],
      "execution_count": null,
      "outputs": []
    },
    {
      "cell_type": "markdown",
      "metadata": {
        "id": "LO-OkO6qEjDF"
      },
      "source": [
        "## 2. Manipolare le biografie da Wikipedia"
      ]
    },
    {
      "cell_type": "markdown",
      "metadata": {
        "id": "amKzbsHSGbbq"
      },
      "source": [
        "cose banali contro cui andare a sbattere: i contenuti delle pagine di Wikipedia non sono indentate"
      ]
    },
    {
      "cell_type": "code",
      "metadata": {
        "id": "Rd2jy_XEFbOC"
      },
      "source": [
        "import re\n",
        "from bs4 import BeautifulSoup\n",
        "import requests"
      ],
      "execution_count": null,
      "outputs": []
    },
    {
      "cell_type": "markdown",
      "metadata": {
        "id": "KBLa_48tGIzj"
      },
      "source": [
        "![wikipediaNonIndentato.png](data:image/png;base64,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)"
      ]
    },
    {
      "cell_type": "code",
      "metadata": {
        "id": "GfW91-EwEo7S"
      },
      "source": [
        "author_site = 'https://en.wikipedia.org/wiki/Chimamanda_Ngozi_Adichie'\n",
        "\n",
        "testo = str()\n",
        "req = requests.get(author_site)\n",
        "soup = BeautifulSoup(req.text,'html.parser')\n",
        "for el in soup.find_all('p'):\n",
        "  testo+=el.text\n",
        "testo = re.sub(r'\\[.*?\\]','',testo)\n",
        "testo = testo.replace('\\n',' ')\n",
        "\n",
        "print(testo)\n",
        "\n"
      ],
      "execution_count": null,
      "outputs": []
    },
    {
      "cell_type": "markdown",
      "metadata": {
        "id": "CTnVkV61J4Y3"
      },
      "source": [
        "Estrarre le entità di tipo GPE e ORG dal testo"
      ]
    },
    {
      "cell_type": "code",
      "metadata": {
        "id": "DcRNTaYeiHST"
      },
      "source": [
        "import spacy\n",
        "import re\n",
        "\n",
        "nlp = spacy.load('en_core_web_sm')\n",
        "\n",
        "\n",
        "tokenized = nlp(testo)\n",
        "\n",
        "orgs = {x.text.lower() for x in tokenized.ents if x.label_ =='ORG' and x.text!='Adichie' }\n",
        "\n",
        "locs = {x.text.lower() for x in tokenized.ents if x.label_ =='GPE'}\n",
        "\n",
        "orgs_pattern = re.compile(' '+\"|\".join(orgs)+' ')\n",
        "locs_pattern = re.compile(' '+\"|\".join(locs)+' ')\n",
        "\n",
        "preproc_text = re.sub(locs_pattern,'GPE ',testo.lower())\n",
        "preproc_text = re.sub(orgs_pattern,'ORG ',preproc_text)\n",
        "\n",
        "print(preproc_text)\n",
        "\n",
        "\n",
        "\n",
        "\n",
        "\n"
      ],
      "execution_count": null,
      "outputs": []
    },
    {
      "cell_type": "markdown",
      "metadata": {
        "id": "8hEdZR7KJl4R"
      },
      "source": [
        "Estrae i pattern dal testo"
      ]
    },
    {
      "cell_type": "code",
      "metadata": {
        "id": "LI6nVdPrKDfd"
      },
      "source": [
        "tokenized_preprocessed = nlp(preproc_text)\n",
        "\n",
        "\n",
        "for sent in tokenized_preprocessed.sents:\n",
        "  \n",
        "  Migration = re.search('(?=.*leave|left)(?=.*for GPE).*',sent.text)\n",
        "  TimeIndexedPersonStatus = re.search('(?=.*receive)(?=.*from\\sORG).*',sent.text)\n",
        "  if Migration is not None:\n",
        "    print('Migration pattern(s): {}'.format(Migration.group()))\n",
        "  if TimeIndexedPersonStatus is not None:\n",
        "    print('Time Indexed Person pattern(s): {}'.format(TimeIndexedPersonStatus.group()))"
      ],
      "execution_count": null,
      "outputs": []
    },
    {
      "cell_type": "markdown",
      "metadata": {
        "id": "JkuXDofWSewi"
      },
      "source": [
        "### Esempio di Time Indexed Person Status"
      ]
    },
    {
      "cell_type": "markdown",
      "metadata": {
        "id": "bNpA3QpFFgRN"
      },
      "source": [
        "[ a urw:Migration;\\\n",
        ">dul:isSettingFor [\n",
        ">>a urw:ConditionRole;\\\n",
        "dul:isDefinedIn Study_Abroad\\\n",
        "dul:isRoleOf Q230141.\\\n",
        "]\n",
        "\n",
        "> Q230141 a Person; \\\n",
        "skos:label 'Chimamanda Ngozi Adichie'.\n",
        "\n",
        ">dul:isSettingFor USA;\\\n",
        "dul:isSetting For Q230141;\\\n",
        "prov:qualifiedDerivation [\n",
        ">>prov:WasDerivedFrom https://en.wikipedia.org/wiki/Chimamanda_Ngozi_Adichie \\\n",
        "              ]\n",
        "\n",
        ">prov:qualifiedAttribution [\n",
        ">>prov:wasAttributedTo [\n",
        "  >>> a LexicoSemanticPattern\n",
        "  urw:hasPattern (escape-51.1-1)(to|at|in)(GPE|ORG)\\\n",
        "]\n",
        "\n",
        ">>]"
      ]
    },
    {
      "cell_type": "markdown",
      "metadata": {
        "id": "2DnRwrN6OEvm"
      },
      "source": [
        "##3. Ispezionare e inserire classi e individui nell'ontologia"
      ]
    },
    {
      "cell_type": "code",
      "metadata": {
        "id": "aYYLXXRGOTg9",
        "colab": {
          "base_uri": "https://localhost:8080/"
        },
        "outputId": "bc70b9fc-8dfb-4854-f06d-faed5cbe3c8c"
      },
      "source": [
        "!pip install owlready2\n",
        "!pip install rdflib"
      ],
      "execution_count": 1,
      "outputs": [
        {
          "output_type": "stream",
          "name": "stdout",
          "text": [
            "Collecting owlready2\n",
            "  Downloading Owlready2-0.35.tar.gz (23.8 MB)\n",
            "\u001b[K     |████████████████████████████████| 23.8 MB 1.5 MB/s \n",
            "\u001b[?25hBuilding wheels for collected packages: owlready2\n",
            "  Building wheel for owlready2 (setup.py) ... \u001b[?25l\u001b[?25hdone\n",
            "  Created wheel for owlready2: filename=Owlready2-0.35-cp37-cp37m-linux_x86_64.whl size=20432792 sha256=51025460958729fd72b8ee65da9c81f9e922c81c8122493b2bc739e6c806f57a\n",
            "  Stored in directory: /root/.cache/pip/wheels/a6/85/8f/4f254dc1d3b7901c23004544f7214748607d8b0c2c02b3c868\n",
            "Successfully built owlready2\n",
            "Installing collected packages: owlready2\n",
            "Successfully installed owlready2-0.35\n",
            "Collecting rdflib\n",
            "  Downloading rdflib-6.0.2-py3-none-any.whl (407 kB)\n",
            "\u001b[K     |████████████████████████████████| 407 kB 7.5 MB/s \n",
            "\u001b[?25hRequirement already satisfied: setuptools in /usr/local/lib/python3.7/dist-packages (from rdflib) (57.4.0)\n",
            "Requirement already satisfied: pyparsing in /usr/local/lib/python3.7/dist-packages (from rdflib) (3.0.6)\n",
            "Collecting isodate\n",
            "  Downloading isodate-0.6.0-py2.py3-none-any.whl (45 kB)\n",
            "\u001b[K     |████████████████████████████████| 45 kB 4.2 MB/s \n",
            "\u001b[?25hRequirement already satisfied: six in /usr/local/lib/python3.7/dist-packages (from isodate->rdflib) (1.15.0)\n",
            "Installing collected packages: isodate, rdflib\n",
            "Successfully installed isodate-0.6.0 rdflib-6.0.2\n"
          ]
        }
      ]
    },
    {
      "cell_type": "markdown",
      "metadata": {
        "id": "qSL9uGKWOyS8"
      },
      "source": [
        "importare l'ontologia"
      ]
    },
    {
      "cell_type": "code",
      "metadata": {
        "id": "x4zaQno5O1tW"
      },
      "source": [
        "import owlready2\n",
        "import rdflib\n",
        "import types\n",
        "#ASSICURARSI CHE L'ONTOLOGIA SIA NELLA CARTELLA 'sample_data'. IN CASO CONTRARIO, CARICARLA NELLA CARTELLA\n",
        "onto_file = owlready2.get_ontology('/content/sample_data/urw_ontology.owl')\n",
        "onto = onto_file.load()"
      ],
      "execution_count": 3,
      "outputs": []
    },
    {
      "cell_type": "markdown",
      "metadata": {
        "id": "NC58snIaPUN1"
      },
      "source": [
        "Ispeziona individuals"
      ]
    },
    {
      "cell_type": "code",
      "metadata": {
        "id": "mULvb-4kPWOz",
        "colab": {
          "base_uri": "https://localhost:8080/"
        },
        "outputId": "c7991fdd-04b2-4b9a-b12d-78692deb8dc1"
      },
      "source": [
        "for individual in list(onto.individuals())[:10]:\n",
        "  print(individual)"
      ],
      "execution_count": 4,
      "outputs": [
        {
          "output_type": "stream",
          "name": "stdout",
          "text": [
            "urw_ontology.Africa\n",
            "urw_ontology.Asia\n",
            "urw_ontology.Europe\n",
            "urw_ontology.LatinAmericaAndCaribbean\n",
            "urw_ontology.NorthAmerica\n",
            "urw_ontology.Oceania\n",
            "urw_ontology.ABW\n",
            "urw_ontology.AFG\n",
            "urw_ontology.AGO\n",
            "urw_ontology.ALB\n"
          ]
        }
      ]
    },
    {
      "cell_type": "markdown",
      "metadata": {
        "id": "Ar8wcRapPgzA"
      },
      "source": [
        "ispeziona classi"
      ]
    },
    {
      "cell_type": "code",
      "metadata": {
        "id": "7n-vNla-PiLw",
        "colab": {
          "base_uri": "https://localhost:8080/"
        },
        "outputId": "6045c85e-5537-4164-e62e-4acf881293aa"
      },
      "source": [
        "for class_ in onto.classes():\n",
        "  print(class_)"
      ],
      "execution_count": 5,
      "outputs": [
        {
          "output_type": "stream",
          "name": "stdout",
          "text": [
            "owl.Thing\n",
            "22-rdf-syntax-ns.langString\n",
            "urw_ontology.Person\n",
            "urw_ontology.Country\n",
            "urw_ontology.Place\n",
            "ontolex.LexicalEntry\n",
            "ontolex.Form\n",
            "urw_ontology.Migration\n",
            "urw_ontology.TimeIndexedPersonStatus\n",
            "ontolex.LexicalConcept\n",
            "ontolex.LexicalSense\n",
            "prov.ActivityInfluence\n",
            "prov.Activity\n",
            "prov.AgentInfluence\n",
            "prov.Agent\n",
            "prov.EntityInfluence\n",
            "terms.DCMIType\n",
            "prov.Association\n",
            "prov.Attribution\n",
            "prov.Derivation\n",
            "prov.Generation\n",
            "urw_ontology.Event\n",
            "urw_ontology.Situation\n",
            "urw_ontology.ConditionRole\n",
            "urw_ontology.MigrationRole\n",
            "urw_ontology.Migrating\n",
            "urw_ontology.Classification\n",
            "urw_ontology.TimeInterval\n",
            "urw_ontology.MigrationPlan\n",
            "urw_ontology.Description\n",
            "urw_ontology.AssociationRole\n",
            "dcmitype.Collection\n",
            "dcmitype.Dataset\n",
            "dcmitype.Event\n",
            "dcmitype.Image\n",
            "dcmitype.InteractiveResource\n",
            "dcmitype.MovingImage\n",
            "dcmitype.PhysicalObject\n",
            "dcmitype.Service\n",
            "dcmitype.Software\n",
            "dcmitype.Sound\n",
            "dcmitype.StillImage\n",
            "dcmitype.Text\n",
            "urw_ontology.Role\n",
            "urw_ontology.Condition\n",
            "urw_ontology.Continent\n",
            "urw_ontology.CountryWithHighHDI\n",
            "urw_ontology.CountryWithLowHDI\n",
            "urw_ontology.CountryWithMediumHDI\n",
            "urw_ontology.CountryWithVeryHighHDI\n",
            "urw_ontology.FormerColonyCountry\n",
            "urw_ontology.MigrationReason\n",
            "urw_ontology.PlaceOfArrival\n",
            "urw_ontology.PlaceOfDeparture\n",
            "ontolex.Affix\n",
            "ontolex.MultiWordExpression\n",
            "ontolex.Word\n",
            "prov.Delegation\n",
            "prov.Organization\n",
            "prov.SoftwareAgent\n"
          ]
        }
      ]
    },
    {
      "cell_type": "markdown",
      "metadata": {
        "id": "hNrBtCEEQghy"
      },
      "source": [
        "Crea una classe"
      ]
    },
    {
      "cell_type": "code",
      "metadata": {
        "id": "ByrDCKVgQjwa",
        "colab": {
          "base_uri": "https://localhost:8080/"
        },
        "outputId": "78abd9a4-a3e7-42d7-d836-e340befd2714"
      },
      "source": [
        "with onto:\n",
        "  City = types.new_class('City', (onto['Place'],))\n",
        "\n",
        "print(City)"
      ],
      "execution_count": 6,
      "outputs": [
        {
          "output_type": "stream",
          "name": "stdout",
          "text": [
            "urw_ontology.City\n"
          ]
        }
      ]
    },
    {
      "cell_type": "markdown",
      "metadata": {
        "id": "30fMUvW3Q6Vk"
      },
      "source": [
        "Crea entità e associale tramite proprietà"
      ]
    },
    {
      "cell_type": "code",
      "metadata": {
        "id": "W4b1Bw57RAkm",
        "colab": {
          "base_uri": "https://localhost:8080/"
        },
        "outputId": "e21c84d4-92eb-4291-d2c7-ad77c73934ea"
      },
      "source": [
        "#CREA L'ENTITÀ\n",
        "leini = onto['City']('Leini')\n",
        "marco = onto['Person']('Q1985')\n",
        "\n",
        "\n",
        "#CHIAMA L'ENTITÀ\n",
        "print(onto['Leini'])\n",
        "print(onto['Q1985'])\n"
      ],
      "execution_count": 7,
      "outputs": [
        {
          "output_type": "stream",
          "name": "stdout",
          "text": [
            "urw_ontology.Leini\n",
            "urw_ontology.Q1985\n"
          ]
        }
      ]
    },
    {
      "cell_type": "markdown",
      "metadata": {
        "id": "FkxHRq9QfrGu"
      },
      "source": [
        "Associa entità tramite proprietà"
      ]
    },
    {
      "cell_type": "code",
      "metadata": {
        "id": "ckkyHeQcWIdH",
        "colab": {
          "base_uri": "https://localhost:8080/"
        },
        "outputId": "ae222e49-73f3-4e20-fadf-0e52a19ff9ba"
      },
      "source": [
        "#ASSOCIA ENTITÀ TRAMITE PROPRIETÀ NON FUNZIONALI\n",
        "onto['Leini'].isPartOf.append(onto['ITA'])\n",
        "\n",
        "#ASSOCIA ENTITÀ TRAMITE PROPRIETÀ FUNZIONALI\n",
        "onto['Q1985'].countryOfBirth= onto['ITA']\n",
        "\n",
        "#ASSOCIA UNA LABEL A UN'ENTITÀ\n",
        "onto['Q1985'].label.append(owlready2.locstr('Marco Antonio Stranisci','en'))\n",
        "\n",
        "print(onto['Leini'].isPartOf)\n",
        "print(onto['Q1985'].countryOfBirth)\n",
        "print(onto['Q1985'].label)\n"
      ],
      "execution_count": 8,
      "outputs": [
        {
          "output_type": "stream",
          "name": "stdout",
          "text": [
            "[urw_ontology.ITA]\n",
            "urw_ontology.ITA\n",
            "['Marco Antonio Stranisci']\n"
          ]
        }
      ]
    },
    {
      "cell_type": "markdown",
      "metadata": {
        "id": "zXCqNOP8WO2m"
      },
      "source": [
        "Un esempio (STUPIDO) di Time Indexed Person Status"
      ]
    },
    {
      "cell_type": "code",
      "metadata": {
        "id": "ETf877J5WTfY",
        "colab": {
          "base_uri": "https://localhost:8080/"
        },
        "outputId": "86eac971-b935-4608-d49b-ad59a4ff5526"
      },
      "source": [
        "# CREA UNA MIGRATION\n",
        "bnode = rdflib.BNode()\n",
        "\n",
        "Tips= onto['Migration'](bnode)\n",
        "\n",
        "Tips.isSettingFor.append(onto['Q1985'])\n",
        "Tips.isSettingFor.append(onto['Leini'])\n",
        "Tips.timeValue.append(1990)\n",
        "\n",
        "print('The Migration (blank node: {}) is setting for {} and is setting for {} in {}'.format(Tips.name,Tips.isSettingFor[0].label[0],Tips.isSettingFor[1].name,Tips.timeValue[0]))\n"
      ],
      "execution_count": 27,
      "outputs": [
        {
          "output_type": "stream",
          "name": "stdout",
          "text": [
            "The Migration (blank node:N0479456111824f46a8bd1b46b182ca16) is setting for Marco Antonio Stranisci and is setting for Leini in 1990\n"
          ]
        }
      ]
    }
  ]
}